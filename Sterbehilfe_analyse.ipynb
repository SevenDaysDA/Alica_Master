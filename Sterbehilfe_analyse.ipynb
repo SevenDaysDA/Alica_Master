{
 "cells": [
  {
   "cell_type": "code",
   "execution_count": 1,
   "metadata": {
    "collapsed": true,
    "pycharm": {
     "name": "#%%#%%\n"
    }
   },
   "outputs": [],
   "source": [
    "import numpy as np\n",
    "import pandas as pd\n",
    "from sklearn.linear_model import LogisticRegression\n",
    "\n",
    "\n",
    "import matplotlib.pyplot as plt\n",
    "\n",
    "from sklearn import linear_model\n",
    "from scipy.special import expit\n",
    "\n",
    "from sklearn.metrics import accuracy_score\n",
    "from sklearn.linear_model import LogisticRegression\n",
    "from sklearn.svm import SVC\n",
    "from sklearn.gaussian_process import GaussianProcessClassifier\n",
    "from sklearn.gaussian_process.kernels import RBF\n",
    "from sklearn import datasets"
   ]
  },
  {
   "cell_type": "code",
   "execution_count": 4,
   "outputs": [
    {
     "name": "stdout",
     "output_type": "stream",
     "text": [
      "Yes_count= 360  and no_count= 270 \n"
     ]
    }
   ],
   "source": [
    "# Read data -- Bereinigung\n",
    "\n",
    "df = pd.read_excel(r'WeitereDaten/sterbehilfe_komplett.xlsx')\n",
    "df1 = df[['ja','nein','enthaltung','ungültig','fraktiongruppe','altersgruppe','geschlecht', 'bildungsgrad']].copy()\n",
    "df1.drop(df1[df1.ja > 1].index, inplace=True)\n",
    "#df1.drop(df1[df1.bildungsgrad == \"\"].index, inplace=True)\n",
    "#   df1  =>> Bereinigtes dataframe\n",
    "\n",
    "yes_count=0\n",
    "no_count= 0\n",
    "for index,row in df1.iterrows():\n",
    "    if float(row[0]) == 1.0:\n",
    "        yes_count += 1\n",
    "    else:\n",
    "        no_count+=1\n",
    "\n",
    "print(\"Yes_count= {}  and no_count= {} \".format(yes_count,no_count))\n"
   ],
   "metadata": {
    "collapsed": false,
    "pycharm": {
     "name": "#%%\n"
    }
   }
  },
  {
   "cell_type": "code",
   "execution_count": null,
   "outputs": [],
   "source": [
    "# Nur Geschlecht\n",
    "# Daten Extraktion\n",
    "y = df1[['ja']].copy().to_numpy()\n",
    "X = df1[['FraktionNummer', 'Geschlecht']].copy()\n",
    "\n",
    "#for row in y:\n",
    "#   print(row)\n",
    "\n",
    "clf = LogisticRegression(random_state=0).fit(X, y)\n",
    "\n",
    "clf.score(X, y)\n",
    "print(clf.coef_)"
   ],
   "metadata": {
    "collapsed": false,
    "pycharm": {
     "name": "#%%\n"
    }
   }
  },
  {
   "cell_type": "code",
   "execution_count": 11,
   "outputs": [
    {
     "name": "stdout",
     "output_type": "stream",
     "text": [
      "[0, 0, 0, 0, 0, 0, 0]\n"
     ]
    }
   ],
   "source": [
    "# Weitere Datenbereinigung\n",
    "\n",
    "data = df1[['ja','nein','enthaltung','ungültig','fraktiongruppe']].copy().to_numpy()\n",
    "\n",
    "party = ['CDU/CSU','SPD','AfD','FDP', 'DIE LINKE.','BÜ90/GR','Fraktionslos' ]\n",
    "\n",
    "\n",
    "stimme = [0,0,0,0,0,0,0]\n",
    "for frak in range(0,7):\n",
    "    for elem in range(621):\n",
    "        if data[elem,4] == party[frak] and data[elem,3] == 1:\n",
    "            stimme[frak] += 1\n",
    "print(stimme)\n"
   ],
   "metadata": {
    "collapsed": false,
    "pycharm": {
     "name": "#%%\n"
    }
   }
  },
  {
   "cell_type": "code",
   "execution_count": null,
   "outputs": [],
   "source": [
    "# Allgemeine Plots zur VEranschlauichtung\n",
    "\n"
   ],
   "metadata": {
    "collapsed": false,
    "pycharm": {
     "name": "#%%\n"
    }
   }
  },
  {
   "cell_type": "code",
   "execution_count": null,
   "outputs": [],
   "source": [
    "\n",
    "# Vorbereitung von standard Daten werte:\n",
    "person_1 = np.array([1, 2,0 ,2])   # CDU, Mittl Alter, Mann, Abi\n",
    "person_2 = np.array([1, 2,1 ,2])   # CDU, Mittl Alter, Frau, Abi\n",
    "\n",
    "person_3 = np.array([5, 2,0 ,2])   # CDU, Mittl Alter, Mann, Abi\n",
    "person_4 = np.array([5, 2,1 ,2])   # CDU, Mittl Alter, Frau, Abi\n",
    "\n",
    "\n",
    "print(clf.predict_proba([person_1,person_2,person_3,person_4]))\n"
   ],
   "metadata": {
    "collapsed": false,
    "pycharm": {
     "name": "#%%\n"
    }
   }
  },
  {
   "cell_type": "code",
   "execution_count": null,
   "outputs": [],
   "source": [
    "#     Logistic Regression Analysis\n",
    "\n",
    "feature = 1\n",
    "\n",
    "# and plot the result\n",
    "plt.figure(1, figsize=(4, 3))\n",
    "plt.clf()\n",
    "#plt.scatter(X.ravel(), y, color='black', zorder=20)\n",
    "interval = 300\n",
    "X_test = np.linspace(-5, 20, interval)\n",
    "#loss = expit(X_test * clf.coef_ + clf.intercept_).ravel()\n",
    "#plt.plot(X_test, loss, color='red', linewidth=3)\n",
    "fig=plt.figure()\n",
    "ax = fig.add_axes([0,0,1,1])\n",
    "ax.scatter(5,0.5,color='r')\n",
    "\n",
    "#  Fraktions Daten Vorbereinigung\n",
    "x_sec = np.ones(len(X))*clf.intercept_\n",
    "X_points =np.add(np.dot(X, np.array(clf.coef_).reshape(feature,1)) , x_sec.reshape((621,1)))\n",
    "\n",
    "print(y.shape)\n",
    "print(X_points.shape)\n",
    "ax.scatter(X_points,y,color='y')\n",
    "\n",
    "\n",
    "\n",
    "Y_test = np.dot(clf.coef_,(np.dot(X_test.reshape((interval,1)),np.ones(feature).reshape(1,feature))).reshape((feature,interval)) )+ np.ones(interval)*clf.intercept_\n",
    "plt.plot(X_test,Y_test.reshape(interval,1) )\n",
    "plt.axhline(.5, color='.5')\n",
    "plt.ylabel('y')\n",
    "plt.xlabel('X')\n",
    "plt.xticks(range(-5, 20))\n",
    "plt.yticks([0, 0.5, 1])\n",
    "plt.ylim(-.25, 1.25)\n",
    "plt.xlim(-4, 20)\n",
    "plt.legend(('Logistic Regression Model', 'Linear Regression Model'),\n",
    "           loc=\"lower right\", fontsize='small')\n",
    "plt.tight_layout()\n",
    "plt.show()\n",
    "\n"
   ],
   "metadata": {
    "collapsed": false,
    "pycharm": {
     "name": "#%%\n"
    }
   }
  },
  {
   "cell_type": "code",
   "execution_count": null,
   "outputs": [],
   "source": [
    "y = df1[['ja']].copy().to_numpy()\n",
    "X = df1[['Geschlecht']].copy().to_numpy()\n",
    "\n"
   ],
   "metadata": {
    "collapsed": false,
    "pycharm": {
     "name": "#%%\n"
    }
   }
  },
  {
   "cell_type": "code",
   "execution_count": null,
   "outputs": [],
   "source": [
    "\n"
   ],
   "metadata": {
    "collapsed": false,
    "pycharm": {
     "name": "#%%\n"
    }
   }
  }
 ],
 "metadata": {
  "kernelspec": {
   "display_name": "Python 3",
   "language": "python",
   "name": "python3"
  },
  "language_info": {
   "codemirror_mode": {
    "name": "ipython",
    "version": 2
   },
   "file_extension": ".py",
   "mimetype": "text/x-python",
   "name": "python",
   "nbconvert_exporter": "python",
   "pygments_lexer": "ipython2",
   "version": "2.7.6"
  }
 },
 "nbformat": 4,
 "nbformat_minor": 0
}